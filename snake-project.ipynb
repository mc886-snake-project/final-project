{
 "cells": [
  {
   "cell_type": "code",
   "execution_count": 61,
   "metadata": {
    "id": "B5ajUmW1-lL7"
   },
   "outputs": [],
   "source": [
    "import numpy as np\n",
    "import pandas as pd\n",
    "from matplotlib import pyplot as plt\n",
    "from sklearn.model_selection import train_test_split\n",
    "from torch.utils.data import Dataset, DataLoader\n",
    "from torchvision import transforms\n",
    "import seaborn as sns\n",
    "import numpy as np\n",
    "from torch.utils.data import Dataset, DataLoader\n",
    "from torchvision import transforms\n",
    "import pandas as pd\n",
    "import matplotlib.colors\n",
    "import matplotlib.pyplot as plt\n",
    "import seaborn as sns\n",
    "from sklearn.metrics import confusion_matrix\n",
    "from sklearn.preprocessing import OneHotEncoder\n",
    "from sklearn.preprocessing import MinMaxScaler\n",
    "import random\n",
    "from sklearn import metrics\n",
    "from sklearn.metrics import ConfusionMatrixDisplay\n",
    "import torch\n",
    "from torch import nn, optim\n",
    "from torch.utils.data import SubsetRandomSampler\n"
   ]
  },
  {
   "cell_type": "code",
   "execution_count": 28,
   "metadata": {
    "scrolled": true
   },
   "outputs": [
    {
     "data": {
      "text/html": [
       "<div>\n",
       "<style scoped>\n",
       "    .dataframe tbody tr th:only-of-type {\n",
       "        vertical-align: middle;\n",
       "    }\n",
       "\n",
       "    .dataframe tbody tr th {\n",
       "        vertical-align: top;\n",
       "    }\n",
       "\n",
       "    .dataframe thead th {\n",
       "        text-align: right;\n",
       "    }\n",
       "</style>\n",
       "<table border=\"1\" class=\"dataframe\">\n",
       "  <thead>\n",
       "    <tr style=\"text-align: right;\">\n",
       "      <th></th>\n",
       "      <th>0</th>\n",
       "      <th>1</th>\n",
       "      <th>2</th>\n",
       "      <th>3</th>\n",
       "      <th>4</th>\n",
       "      <th>5</th>\n",
       "      <th>6</th>\n",
       "      <th>7</th>\n",
       "      <th>8</th>\n",
       "      <th>9</th>\n",
       "      <th>...</th>\n",
       "      <th>3063</th>\n",
       "      <th>3064</th>\n",
       "      <th>3065</th>\n",
       "      <th>3066</th>\n",
       "      <th>3067</th>\n",
       "      <th>3068</th>\n",
       "      <th>3069</th>\n",
       "      <th>3070</th>\n",
       "      <th>3071</th>\n",
       "      <th>3072</th>\n",
       "    </tr>\n",
       "  </thead>\n",
       "  <tbody>\n",
       "    <tr>\n",
       "      <th>0</th>\n",
       "      <td>56</td>\n",
       "      <td>48</td>\n",
       "      <td>44</td>\n",
       "      <td>98</td>\n",
       "      <td>98</td>\n",
       "      <td>99</td>\n",
       "      <td>63</td>\n",
       "      <td>59</td>\n",
       "      <td>60</td>\n",
       "      <td>43</td>\n",
       "      <td>...</td>\n",
       "      <td>31</td>\n",
       "      <td>31</td>\n",
       "      <td>37</td>\n",
       "      <td>56</td>\n",
       "      <td>60</td>\n",
       "      <td>69</td>\n",
       "      <td>56</td>\n",
       "      <td>63</td>\n",
       "      <td>75</td>\n",
       "      <td>1</td>\n",
       "    </tr>\n",
       "    <tr>\n",
       "      <th>1</th>\n",
       "      <td>74</td>\n",
       "      <td>78</td>\n",
       "      <td>69</td>\n",
       "      <td>91</td>\n",
       "      <td>88</td>\n",
       "      <td>83</td>\n",
       "      <td>198</td>\n",
       "      <td>206</td>\n",
       "      <td>157</td>\n",
       "      <td>102</td>\n",
       "      <td>...</td>\n",
       "      <td>185</td>\n",
       "      <td>198</td>\n",
       "      <td>201</td>\n",
       "      <td>169</td>\n",
       "      <td>178</td>\n",
       "      <td>181</td>\n",
       "      <td>116</td>\n",
       "      <td>120</td>\n",
       "      <td>122</td>\n",
       "      <td>1</td>\n",
       "    </tr>\n",
       "    <tr>\n",
       "      <th>2</th>\n",
       "      <td>6</td>\n",
       "      <td>9</td>\n",
       "      <td>9</td>\n",
       "      <td>3</td>\n",
       "      <td>6</td>\n",
       "      <td>6</td>\n",
       "      <td>8</td>\n",
       "      <td>11</td>\n",
       "      <td>10</td>\n",
       "      <td>6</td>\n",
       "      <td>...</td>\n",
       "      <td>49</td>\n",
       "      <td>68</td>\n",
       "      <td>65</td>\n",
       "      <td>55</td>\n",
       "      <td>74</td>\n",
       "      <td>71</td>\n",
       "      <td>39</td>\n",
       "      <td>55</td>\n",
       "      <td>54</td>\n",
       "      <td>1</td>\n",
       "    </tr>\n",
       "    <tr>\n",
       "      <th>3</th>\n",
       "      <td>156</td>\n",
       "      <td>165</td>\n",
       "      <td>169</td>\n",
       "      <td>161</td>\n",
       "      <td>172</td>\n",
       "      <td>176</td>\n",
       "      <td>149</td>\n",
       "      <td>160</td>\n",
       "      <td>164</td>\n",
       "      <td>163</td>\n",
       "      <td>...</td>\n",
       "      <td>114</td>\n",
       "      <td>121</td>\n",
       "      <td>124</td>\n",
       "      <td>125</td>\n",
       "      <td>131</td>\n",
       "      <td>136</td>\n",
       "      <td>137</td>\n",
       "      <td>142</td>\n",
       "      <td>145</td>\n",
       "      <td>1</td>\n",
       "    </tr>\n",
       "    <tr>\n",
       "      <th>4</th>\n",
       "      <td>75</td>\n",
       "      <td>71</td>\n",
       "      <td>73</td>\n",
       "      <td>16</td>\n",
       "      <td>48</td>\n",
       "      <td>34</td>\n",
       "      <td>166</td>\n",
       "      <td>141</td>\n",
       "      <td>116</td>\n",
       "      <td>67</td>\n",
       "      <td>...</td>\n",
       "      <td>38</td>\n",
       "      <td>47</td>\n",
       "      <td>59</td>\n",
       "      <td>59</td>\n",
       "      <td>87</td>\n",
       "      <td>90</td>\n",
       "      <td>84</td>\n",
       "      <td>106</td>\n",
       "      <td>118</td>\n",
       "      <td>1</td>\n",
       "    </tr>\n",
       "  </tbody>\n",
       "</table>\n",
       "<p>5 rows × 3073 columns</p>\n",
       "</div>"
      ],
      "text/plain": [
       "     0    1    2    3    4    5    6    7    8    9  ...  3063  3064  3065  \\\n",
       "0   56   48   44   98   98   99   63   59   60   43  ...    31    31    37   \n",
       "1   74   78   69   91   88   83  198  206  157  102  ...   185   198   201   \n",
       "2    6    9    9    3    6    6    8   11   10    6  ...    49    68    65   \n",
       "3  156  165  169  161  172  176  149  160  164  163  ...   114   121   124   \n",
       "4   75   71   73   16   48   34  166  141  116   67  ...    38    47    59   \n",
       "\n",
       "   3066  3067  3068  3069  3070  3071  3072  \n",
       "0    56    60    69    56    63    75     1  \n",
       "1   169   178   181   116   120   122     1  \n",
       "2    55    74    71    39    55    54     1  \n",
       "3   125   131   136   137   142   145     1  \n",
       "4    59    87    90    84   106   118     1  \n",
       "\n",
       "[5 rows x 3073 columns]"
      ]
     },
     "execution_count": 28,
     "metadata": {},
     "output_type": "execute_result"
    }
   ],
   "source": [
    "data = pd.read_csv('data.csv').drop('Unnamed: 0', axis=1)\n",
    "data.head()"
   ]
  },
  {
   "cell_type": "code",
   "execution_count": 29,
   "metadata": {},
   "outputs": [
    {
     "data": {
      "text/plain": [
       "<matplotlib.image.AxesImage at 0x7f92d59d09d0>"
      ]
     },
     "execution_count": 29,
     "metadata": {},
     "output_type": "execute_result"
    },
    {
     "data": {
      "image/png": "[encoded data removed]",
      "text/plain": [
       "<Figure size 432x288 with 1 Axes>"
      ]
     },
     "metadata": {
      "needs_background": "light"
     },
     "output_type": "display_data"
    }
   ],
   "source": [
    "plt.imshow(np.array(test.iloc[500][0:3072]).reshape(32,32,3))"
   ]
  },
  {
   "cell_type": "code",
   "execution_count": 50,
   "metadata": {},
   "outputs": [],
   "source": [
    "y = np.array(data['3072'])\n",
    "X = np.array(data.drop('3072', axis = 1))"
   ]
  },
  {
   "cell_type": "code",
   "execution_count": 51,
   "metadata": {},
   "outputs": [
    {
     "data": {
      "text/plain": [
       "<AxesSubplot:ylabel='Count'>"
      ]
     },
     "execution_count": 51,
     "metadata": {},
     "output_type": "execute_result"
    },
    {
     "data": {
      "image/png": "[encoded data removed]",
      "text/plain": [
       "<Figure size 432x288 with 1 Axes>"
      ]
     },
     "metadata": {
      "needs_background": "light"
     },
     "output_type": "display_data"
    }
   ],
   "source": [
    "sns.histplot(y)"
   ]
  },
  {
   "cell_type": "code",
   "execution_count": 52,
   "metadata": {},
   "outputs": [],
   "source": [
    "X_train, X_val, y_train, y_val = train_test_split(X,y, test_size = 0.3, random_state = 42)"
   ]
  },
  {
   "cell_type": "code",
   "execution_count": 53,
   "metadata": {},
   "outputs": [],
   "source": [
    "X_train, X_test, y_train, y_test = train_test_split(X_train,y_train, test_size = 0.15, random_state = 42)"
   ]
  },
  {
   "cell_type": "code",
   "execution_count": 54,
   "metadata": {},
   "outputs": [
    {
     "data": {
      "text/plain": [
       "array([[ 66,  74,  88, ...,  32,  36,  40],\n",
       "       [104, 148, 185, ..., 114, 163, 185],\n",
       "       [  7,  12,  12, ...,  21,  39,  25],\n",
       "       ...,\n",
       "       [122, 132, 143, ...,  61,  63,  67],\n",
       "       [169, 118,  52, ..., 110, 102, 108],\n",
       "       [218, 221, 221, ..., 106, 108, 107]])"
      ]
     },
     "execution_count": 54,
     "metadata": {},
     "output_type": "execute_result"
    }
   ],
   "source": [
    "X_test"
   ]
  },
  {
   "cell_type": "code",
   "execution_count": 55,
   "metadata": {},
   "outputs": [],
   "source": [
    "# prepare data to use with pytorch\n",
    "class PathMNIST(Dataset):\n",
    "    def __init__(self, mode=\"train\", transform=None):\n",
    "\n",
    "      if mode == \"train\":\n",
    "        x, y = X_train, y_train\n",
    "      elif mode == \"val\":\n",
    "        x, y = X_val, y_val\n",
    "      elif mode == \"test\":\n",
    "        x, y = X_test, y_test\n",
    "      else:\n",
    "        raise ValueError(\"Invalid mode.\")\n",
    "\n",
    "  \n",
    "      self._x = x\n",
    "      self._y = y.squeeze()\n",
    "      self._transform = transform\n",
    "\n",
    "    def __len__(self):\n",
    "      return self._x.shape[0]\n",
    "\n",
    "    def __getitem__(self, idx):\n",
    "      item = self._x[idx]\n",
    "      label = self._y[idx]\n",
    "      if self._transform is not None:\n",
    "        item = self._transform(item)\n",
    "      item = item.flatten()\n",
    "      return item, label"
   ]
  },
  {
   "cell_type": "code",
   "execution_count": 56,
   "metadata": {},
   "outputs": [],
   "source": [
    "train_set = PathMNIST(mode=\"train\")\n",
    "val_set = PathMNIST(mode=\"val\")\n",
    "test_set = PathMNIST(mode=\"test\")\n",
    "\n",
    "\n",
    "train_loader = DataLoader(train_set, batch_size=32, shuffle=True)\n",
    "val_loader = DataLoader(val_set, batch_size=1)\n",
    "test_loader = DataLoader(test_set, batch_size=1)"
   ]
  },
  {
   "cell_type": "code",
   "execution_count": 57,
   "metadata": {},
   "outputs": [
    {
     "data": {
      "text/plain": [
       "(3072,)"
      ]
     },
     "execution_count": 57,
     "metadata": {},
     "output_type": "execute_result"
    }
   ],
   "source": [
    "train_set._x[0].shape"
   ]
  },
  {
   "cell_type": "code",
   "execution_count": 58,
   "metadata": {},
   "outputs": [
    {
     "data": {
      "text/plain": [
       "<AxesSubplot:ylabel='Count'>"
      ]
     },
     "execution_count": 58,
     "metadata": {},
     "output_type": "execute_result"
    },
    {
     "data": {
      "image/png": "[encoded data removed]",
      "text/plain": [
       "<Figure size 432x288 with 1 Axes>"
      ]
     },
     "metadata": {
      "needs_background": "light"
     },
     "output_type": "display_data"
    }
   ],
   "source": [
    "sns.histplot(train_set._y)"
   ]
  },
  {
   "cell_type": "markdown",
   "metadata": {},
   "source": [
    "## Preparação para o pytorch"
   ]
  },
  {
   "cell_type": "code",
   "execution_count": 69,
   "metadata": {},
   "outputs": [],
   "source": [
    "num_epochs = 5"
   ]
  },
  {
   "cell_type": "code",
   "execution_count": 62,
   "metadata": {},
   "outputs": [],
   "source": [
    "if torch.cuda.is_available():\n",
    "  device = torch.device('cuda')\n",
    "else:\n",
    "  device = torch.device('cpu')"
   ]
  },
  {
   "cell_type": "code",
   "execution_count": 75,
   "metadata": {},
   "outputs": [],
   "source": [
    "def show_accuracy(pred_list, label_list):\n",
    "  correct = [0,0]\n",
    "  total = [0,0]\n",
    "  matrix = np.zeros((2,2))\n",
    "\n",
    "  for i in range(len(pred_list)):\n",
    "    matrix[label_list[i]][pred_list[i]]+=1\n",
    "    if pred_list[i] == label_list[i]:\n",
    "      correct[pred_list[i]]+=1\n",
    "    total[label_list[i]] += 1\n",
    "\n",
    "  acc = [100*(x/y) for x,y in zip(correct,total)]\n",
    "  print('Accuracy of the network on the 10004 val images on each class:')\n",
    "  print(acc)\n",
    "  print('Total accuracy:',100*(sum(correct)/sum(total)),\"%\")\n",
    "  plt.figure(figsize=(15,15))\n",
    "  sns.heatmap(matrix,annot = True,cmap=\"YlGnBu\")\n",
    "  plt.show()"
   ]
  },
  {
   "cell_type": "markdown",
   "metadata": {},
   "source": [
    "## Rede Neural"
   ]
  },
  {
   "cell_type": "code",
   "execution_count": 64,
   "metadata": {},
   "outputs": [],
   "source": [
    "#Criando a primeira rede:\n",
    "class MinhaRede(nn.Module):\n",
    "    #Rede com 4 hidden layers\n",
    "  def __init__(self, tam_entrada):\n",
    "    super(MinhaRede, self).__init__()\n",
    "\n",
    "    # Definir a arquitetura\n",
    "    self.rede = nn.Sequential(\n",
    "        nn.Linear(tam_entrada, 256),\n",
    "        nn.ReLU(),\n",
    "        nn.Linear(256,64),\n",
    "        nn.ReLU(),\n",
    "        nn.Linear(64,128),\n",
    "        nn.ReLU(),\n",
    "        nn.Linear(128,128),\n",
    "        nn.ReLU(),\n",
    "        nn.Linear(128,32),\n",
    "        nn.ReLU(),\n",
    "        nn.Linear(32,2)\n",
    "    )\n",
    "  \n",
    "\n",
    "  def forward(self, imagem):\n",
    "    saida = self.rede(imagem)\n",
    "    return saida"
   ]
  },
  {
   "cell_type": "code",
   "execution_count": 65,
   "metadata": {},
   "outputs": [],
   "source": [
    "tam_entrada = 3 * 32 * 32\n",
    "rede = MinhaRede(tam_entrada).to(device)"
   ]
  },
  {
   "cell_type": "code",
   "execution_count": 66,
   "metadata": {},
   "outputs": [
    {
     "name": "stderr",
     "output_type": "stream",
     "text": [
      "<ipython-input-66-4a47e4f753db>:4: UserWarning: nn.init.xavier_uniform is now deprecated in favor of nn.init.xavier_uniform_.\n",
      "  nn.init.xavier_uniform(m.weight)\n"
     ]
    },
    {
     "data": {
      "text/plain": [
       "MinhaRede(\n",
       "  (rede): Sequential(\n",
       "    (0): Linear(in_features=3072, out_features=256, bias=True)\n",
       "    (1): ReLU()\n",
       "    (2): Linear(in_features=256, out_features=64, bias=True)\n",
       "    (3): ReLU()\n",
       "    (4): Linear(in_features=64, out_features=128, bias=True)\n",
       "    (5): ReLU()\n",
       "    (6): Linear(in_features=128, out_features=128, bias=True)\n",
       "    (7): ReLU()\n",
       "    (8): Linear(in_features=128, out_features=32, bias=True)\n",
       "    (9): ReLU()\n",
       "    (10): Linear(in_features=32, out_features=2, bias=True)\n",
       "  )\n",
       ")"
      ]
     },
     "execution_count": 66,
     "metadata": {},
     "output_type": "execute_result"
    }
   ],
   "source": [
    "#inicializando os pesos com o metodo Xavier\n",
    "def initialize_weights(m):\n",
    "  if isinstance(m, nn.Linear):\n",
    "      nn.init.xavier_uniform(m.weight)\n",
    "      m.bias.data.fill_(0.01)\n",
    "\n",
    "rede.apply(initialize_weights)"
   ]
  },
  {
   "cell_type": "code",
   "execution_count": 70,
   "metadata": {},
   "outputs": [],
   "source": [
    "optimizer = optim.SGD(rede.parameters(), lr=0.01, momentum=0.9, weight_decay=0.0009)\n",
    "criterion = nn.CrossEntropyLoss().to(device)"
   ]
  },
  {
   "cell_type": "code",
   "execution_count": 71,
   "metadata": {},
   "outputs": [],
   "source": [
    "\n",
    "def forward(mode, loader):\n",
    "\n",
    "  if mode == 'train':\n",
    "    rede.train()\n",
    "  else:\n",
    "    rede.eval()\n",
    "  \n",
    "  epoch_loss = []\n",
    "  pred_list, label_list = [], []\n",
    "\n",
    "  for data, label in loader:\n",
    "    data = data.to(device)\n",
    "    label = label.to(device)\n",
    "\n",
    "    optimizer.zero_grad()\n",
    "    out = rede(data.float()/255)\n",
    "    loss = criterion(out, label.long())\n",
    "    epoch_loss.append(loss.cpu().data)\n",
    "\n",
    "    predicted=out.data.max(dim=1)[1].cpu().numpy()\n",
    "    pred_list.append(predicted)\n",
    "    label_list.append(label.cpu().numpy())\n",
    "\n",
    "    if mode == 'train':\n",
    "      loss.backward()\n",
    "      optimizer.step()\n",
    "  \n",
    "  epoch_loss = np.asarray(epoch_loss)\n",
    "  pred_list = np.asarray(pred_list).ravel()\n",
    "  label_list = np.asarray(label_list).ravel()\n",
    "  if mode != 'train':\n",
    "    return pred_list, label_list\n",
    "  print(mode, 'Loss:', epoch_loss.mean(), '+/-', epoch_loss.std())"
   ]
  },
  {
   "cell_type": "code",
   "execution_count": 76,
   "metadata": {},
   "outputs": [
    {
     "name": "stdout",
     "output_type": "stream",
     "text": [
      "train Loss: 0.6390704 +/- 0.054514017\n",
      "train Loss: 0.6386296 +/- 0.05821273\n",
      "train Loss: 0.6368956 +/- 0.05965511\n",
      "train Loss: 0.6358286 +/- 0.054876868\n",
      "train Loss: 0.63431376 +/- 0.055931445\n"
     ]
    }
   ],
   "source": [
    "for i in range(num_epochs):\n",
    "  forward('train', train_loader)"
   ]
  },
  {
   "cell_type": "code",
   "execution_count": 80,
   "metadata": {},
   "outputs": [
    {
     "name": "stdout",
     "output_type": "stream",
     "text": [
      "cpu\n"
     ]
    }
   ],
   "source": [
    "print(device)"
   ]
  },
  {
   "cell_type": "code",
   "execution_count": 77,
   "metadata": {},
   "outputs": [
    {
     "name": "stdout",
     "output_type": "stream",
     "text": [
      "Accuracy of the network on the 10004 val images on each class:\n",
      "[100.0, 0.0]\n",
      "Total accuracy: 64.49292929292929 %\n"
     ]
    },
    {
     "data": {
      "image/png": "[encoded data removed]",
      "text/plain": [
       "<Figure size 1080x1080 with 2 Axes>"
      ]
     },
     "metadata": {
      "needs_background": "light"
     },
     "output_type": "display_data"
    }
   ],
   "source": [
    "pred_list, label_list = forward('val', val_loader)\n",
    "show_accuracy(pred_list, label_list)"
   ]
  },
  {
   "cell_type": "code",
   "execution_count": null,
   "metadata": {},
   "outputs": [],
   "source": []
  }
 ],
 "metadata": {
  "colab": {
   "name": "Untitled0.ipynb",
   "provenance": []
  },
  "kernelspec": {
   "display_name": "Python 3",
   "language": "python",
   "name": "python3"
  },
  "language_info": {
   "codemirror_mode": {
    "name": "ipython",
    "version": 3
   },
   "file_extension": ".py",
   "mimetype": "text/x-python",
   "name": "python",
   "nbconvert_exporter": "python",
   "pygments_lexer": "ipython3",
   "version": "3.8.8"
  },
  "toc": {
   "base_numbering": 1,
   "nav_menu": {},
   "number_sections": false,
   "sideBar": false,
   "skip_h1_title": false,
   "title_cell": "Table of Contents",
   "title_sidebar": "Contents",
   "toc_cell": false,
   "toc_position": {},
   "toc_section_display": false,
   "toc_window_display": false
  }
 },
 "nbformat": 4,
 "nbformat_minor": 1
}
