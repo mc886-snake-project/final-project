{
 "cells": [
  {
   "cell_type": "code",
   "execution_count": 1,
   "id": "32f72a38",
   "metadata": {},
   "outputs": [],
   "source": [
    "import tensorflow as tf\n",
    "from tensorflow import keras\n",
    "import cv2\n",
    "import pandas as pd\n",
    "import matplotlib\n",
    "from matplotlib import pyplot as plt\n",
    "import numpy as np\n",
    "import sklearn\n",
    "from sklearn.model_selection import train_test_split\n",
    "from imblearn.under_sampling import RandomUnderSampler\n",
    "from collections import Counter"
   ]
  },
  {
   "cell_type": "code",
   "execution_count": 2,
   "id": "d2598cde",
   "metadata": {},
   "outputs": [],
   "source": [
    "data = pd.read_csv('/Users/pedromota/Downloads/sample_0-2/sample_0_venom_nonvenom.csv')\n",
    "\n",
    "x_data = np.array( [np.array(cv2.resize(cv2.imread(f\"/Users/pedromota/Downloads/snake-data/{data['uuid_image'][i]}\"), (128,128))).flatten() for i in range(len(data.index))])"
   ]
  },
  {
   "cell_type": "code",
   "execution_count": 3,
   "id": "2eb0739b",
   "metadata": {},
   "outputs": [
    {
     "name": "stdout",
     "output_type": "stream",
     "text": [
      "(41250,)\n",
      "(41250, 49152)\n"
     ]
    }
   ],
   "source": [
    "y = data['poisonous']\n",
    "X = x_data\n",
    "\n",
    "print(y.shape)\n",
    "print(X.shape)"
   ]
  },
  {
   "cell_type": "code",
   "execution_count": 6,
   "id": "40e539dc",
   "metadata": {},
   "outputs": [
    {
     "name": "stdout",
     "output_type": "stream",
     "text": [
      "0    26750\n",
      "1    14500\n",
      "Name: poisonous, dtype: int64\n"
     ]
    }
   ],
   "source": [
    "print(y.value_counts())"
   ]
  },
  {
   "cell_type": "code",
   "execution_count": 7,
   "id": "585dbdd4",
   "metadata": {},
   "outputs": [
    {
     "name": "stdout",
     "output_type": "stream",
     "text": [
      "Training target statistics: Counter({0: 14500, 1: 14500})\n",
      "Testing target statistics: Counter({0: 14500, 1: 14500})\n"
     ]
    }
   ],
   "source": [
    "under_sampler = RandomUnderSampler(random_state=42)\n",
    "X, y = under_sampler.fit_resample(X, y)\n",
    "print(f\"Balanced statistics: {Counter(y)}\")"
   ]
  },
  {
   "cell_type": "code",
   "execution_count": 19,
   "id": "620d5070",
   "metadata": {},
   "outputs": [
    {
     "name": "stdout",
     "output_type": "stream",
     "text": [
      "(29000,)\n",
      "(29000, 49152)\n"
     ]
    }
   ],
   "source": [
    "print(y.shape)\n",
    "print(X.shape)\n",
    "\n",
    "X = np.c_[X, y]"
   ]
  },
  {
   "cell_type": "code",
   "execution_count": 23,
   "id": "4f75a851",
   "metadata": {},
   "outputs": [
    {
     "name": "stdout",
     "output_type": "stream",
     "text": [
      "[[ 88  89  88 ... 157 167   1]\n",
      " [ 20  38  62 ...  16  28   0]\n",
      " [142 146 148 ... 200 194   0]\n",
      " ...\n",
      " [106 102  99 ... 107 111   1]\n",
      " [ 27  36  43 ... 124 153   0]\n",
      " [ 28  27  34 ... 193 214   0]]\n",
      "[[  3   5   5 ...   1   1   1]\n",
      " [176 204 224 ... 116 135   1]\n",
      " [169 215 233 ... 175 194   1]\n",
      " ...\n",
      " [  2   2   2 ...   2   3   0]\n",
      " [ 17  16  16 ...  63  63   1]\n",
      " [ 30  38  37 ... 158 166   1]]\n"
     ]
    }
   ],
   "source": [
    "print(X)\n",
    "\n",
    "np.random.shuffle(X)\n",
    "\n",
    "print(X)"
   ]
  },
  {
   "cell_type": "code",
   "execution_count": 24,
   "id": "fb319173",
   "metadata": {},
   "outputs": [
    {
     "name": "stdout",
     "output_type": "stream",
     "text": [
      "[[  3   5   5 ...   1   1   1]\n",
      " [176 204 224 ... 116 135   1]\n",
      " [169 215 233 ... 175 194   1]\n",
      " ...\n",
      " [236 231 222 ... 103 132   0]\n",
      " [153 179 213 ...  52  56   0]\n",
      " [  0   0   0 ...   0   0   1]]\n"
     ]
    }
   ],
   "source": [
    "new_data = X[:21650][:]\n",
    "print(new_data)"
   ]
  },
  {
   "cell_type": "code",
   "execution_count": 10,
   "id": "d95ee4d2",
   "metadata": {},
   "outputs": [],
   "source": [
    "compression_opts = dict(method='zip', archive_name='cobras64fulls.csv')\n",
    "\n",
    "pd.DataFrame(new_data).to_csv('cobras64full.zip', index=True, compression=compression_opts)"
   ]
  }
 ],
 "metadata": {
  "kernelspec": {
   "display_name": "Python 3 (ipykernel)",
   "language": "python",
   "name": "python3"
  },
  "language_info": {
   "codemirror_mode": {
    "name": "ipython",
    "version": 3
   },
   "file_extension": ".py",
   "mimetype": "text/x-python",
   "name": "python",
   "nbconvert_exporter": "python",
   "pygments_lexer": "ipython3",
   "version": "3.9.7"
  }
 },
 "nbformat": 4,
 "nbformat_minor": 5
}
