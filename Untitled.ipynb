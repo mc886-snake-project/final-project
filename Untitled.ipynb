{
 "cells": [
  {
   "cell_type": "code",
   "execution_count": 76,
   "id": "32f72a38",
   "metadata": {},
   "outputs": [],
   "source": [
    "import tensorflow as tf\n",
    "from tensorflow import keras\n",
    "import cv2\n",
    "import pandas as pd\n",
    "import matplotlib\n",
    "from matplotlib import pyplot as plt\n",
    "import numpy as np\n",
    "import sklearn\n",
    "from sklearn.model_selection import train_test_split\n",
    "from imblearn.under_sampling import RandomUnderSampler\n",
    "from collections import Counter"
   ]
  },
  {
   "cell_type": "code",
   "execution_count": 25,
   "id": "d2598cde",
   "metadata": {},
   "outputs": [],
   "source": [
    "data = pd.read_csv('/Users/pedromota/Downloads/sample_0-2/sample_0_venom_nonvenom.csv')\n",
    "\n",
    "x_data = np.array( [np.array(cv2.resize(cv2.imread(f\"/Users/pedromota/Downloads/snake-data/{data['uuid_image'][i]}\"), (128,128))).flatten() for i in range(len(data.index))])"
   ]
  },
  {
   "cell_type": "code",
   "execution_count": 78,
   "id": "2eb0739b",
   "metadata": {},
   "outputs": [
    {
     "data": {
      "text/plain": [
       "<AxesSubplot:>"
      ]
     },
     "execution_count": 78,
     "metadata": {},
     "output_type": "execute_result"
    },
    {
     "data": {
      "image/png": "[encoded data removed]",
      "text/plain": [
       "<Figure size 432x288 with 1 Axes>"
      ]
     },
     "metadata": {
      "needs_background": "light"
     },
     "output_type": "display_data"
    }
   ],
   "source": [
    "y = data['poisonous']\n",
    "X = x_data\n",
    "\n",
    "# print(y.shape)\n",
    "# print(X.shape)\n",
    "\n",
    "data[\"poisonous\"].value_counts().plot(kind=\"bar\", color=['tab:blue', 'tab:orange'])"
   ]
  },
  {
   "cell_type": "code",
   "execution_count": 79,
   "id": "585dbdd4",
   "metadata": {},
   "outputs": [
    {
     "name": "stdout",
     "output_type": "stream",
     "text": [
      "Balanced statistics: Counter({0: 14500, 1: 14500})\n",
      "Unbalanced statistics: Counter({0: 26750, 1: 14500})\n"
     ]
    }
   ],
   "source": [
    "under_sampler = RandomUnderSampler(random_state=42)\n",
    "X, y = under_sampler.fit_resample(X, y)\n",
    "print(f\"Balanced statistics: {Counter(y)}\")\n",
    "print(f\"Unbalanced statistics: {Counter(data['poisonous'])}\")"
   ]
  },
  {
   "cell_type": "code",
   "execution_count": 80,
   "id": "d78352c0",
   "metadata": {},
   "outputs": [
    {
     "data": {
      "text/plain": [
       "<AxesSubplot:>"
      ]
     },
     "execution_count": 80,
     "metadata": {},
     "output_type": "execute_result"
    },
    {
     "data": {
      "image/png": "[encoded data removed]",
      "text/plain": [
       "<Figure size 432x288 with 1 Axes>"
      ]
     },
     "metadata": {
      "needs_background": "light"
     },
     "output_type": "display_data"
    }
   ],
   "source": [
    "y.value_counts().plot(kind=\"bar\", color=['tab:blue', 'tab:orange'])"
   ]
  },
  {
   "cell_type": "code",
   "execution_count": 29,
   "id": "620d5070",
   "metadata": {},
   "outputs": [
    {
     "name": "stdout",
     "output_type": "stream",
     "text": [
      "(29000,)\n",
      "(29000, 49152)\n"
     ]
    }
   ],
   "source": [
    "print(y.shape)\n",
    "print(X.shape)\n",
    "\n",
    "X_final = np.c_[X, y]"
   ]
  },
  {
   "cell_type": "code",
   "execution_count": 31,
   "id": "4f75a851",
   "metadata": {},
   "outputs": [
    {
     "name": "stdout",
     "output_type": "stream",
     "text": [
      "[[194 201 209 ... 168 177   0]\n",
      " [154 158 158 ... 139 146   0]\n",
      " [110 123 121 ... 104 113   0]\n",
      " ...\n",
      " [ 40  60  65 ... 137 139   1]\n",
      " [134 145 134 ... 178 189   1]\n",
      " [136 153 180 ... 105 121   1]]\n",
      "[[ 41 136  80 ... 175 117   0]\n",
      " [ 34  68 113 ...  82 133   1]\n",
      " [ 30  32  37 ... 100 103   0]\n",
      " ...\n",
      " [255 255 255 ... 255 255   1]\n",
      " [  2   1   5 ... 151 205   1]\n",
      " [  2   4   4 ...   8   7   0]]\n"
     ]
    }
   ],
   "source": [
    "print(X_final)\n",
    "\n",
    "np.random.shuffle(X_final)\n",
    "\n",
    "print(X_final)"
   ]
  },
  {
   "cell_type": "code",
   "execution_count": 33,
   "id": "fb319173",
   "metadata": {},
   "outputs": [
    {
     "name": "stdout",
     "output_type": "stream",
     "text": [
      "(21650, 49153)\n"
     ]
    }
   ],
   "source": [
    "new_data = X_final[:21650][:]\n",
    "print(new_data.shape)"
   ]
  },
  {
   "cell_type": "code",
   "execution_count": 34,
   "id": "d95ee4d2",
   "metadata": {},
   "outputs": [],
   "source": [
    "compression_opts = dict(method='zip', archive_name='cobras128balanced.csv')\n",
    "\n",
    "pd.DataFrame(new_data).to_csv('cobras128balanced.zip', index=True, compression=compression_opts)"
   ]
  }
 ],
 "metadata": {
  "kernelspec": {
   "display_name": "Python 3 (ipykernel)",
   "language": "python",
   "name": "python3"
  },
  "language_info": {
   "codemirror_mode": {
    "name": "ipython",
    "version": 3
   },
   "file_extension": ".py",
   "mimetype": "text/x-python",
   "name": "python",
   "nbconvert_exporter": "python",
   "pygments_lexer": "ipython3",
   "version": "3.9.7"
  }
 },
 "nbformat": 4,
 "nbformat_minor": 5
}
